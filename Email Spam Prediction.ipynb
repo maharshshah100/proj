{
 "cells": [
  {
   "cell_type": "code",
   "execution_count": null,
   "id": "eb7f1083",
   "metadata": {},
   "outputs": [],
   "source": [
    "# TASK : EMAIL SPAM DETECTION WITH MACHINE LEARNING "
   ]
  },
  {
   "cell_type": "code",
   "execution_count": 1,
   "id": "ca655e1c",
   "metadata": {},
   "outputs": [],
   "source": [
    "import numpy as np \n",
    "import pandas as pd "
   ]
  },
  {
   "cell_type": "code",
   "execution_count": 2,
   "id": "2bc812fc",
   "metadata": {},
   "outputs": [
    {
     "name": "stdout",
     "output_type": "stream",
     "text": [
      "     Class                                           Messages\n",
      "0      ham  I've been searching for the right words to tha...\n",
      "1     spam  Free entry in 2 a wkly comp to win FA Cup fina...\n",
      "2      ham  Nah I don't think he goes to usf, he lives aro...\n",
      "3      ham  Even my brother is not like to speak with me. ...\n",
      "4      ham               I HAVE A DATE ON SUNDAY WITH WILL!!!\n",
      "...    ...                                                ...\n",
      "5562  spam  This is the 2nd time we have tried 2 contact u...\n",
      "5563   ham               Will ü b going to esplanade fr home?\n",
      "5564   ham  Pity, * was in mood for that. So...any other s...\n",
      "5565   ham  The guy did some bitching but I acted like i'd...\n",
      "5566   ham                         Rofl. Its true to its name\n",
      "\n",
      "[5567 rows x 2 columns]\n"
     ]
    }
   ],
   "source": [
    "d=pd.read_csv(\"spam.tsv\",sep='\\t',names=['Class','Messages'])\n",
    "print(d)"
   ]
  },
  {
   "cell_type": "code",
   "execution_count": 3,
   "id": "b237ab18",
   "metadata": {},
   "outputs": [
    {
     "name": "stdout",
     "output_type": "stream",
     "text": [
      "     Class                                           Messages  length\n",
      "0      ham  I've been searching for the right words to tha...     196\n",
      "1     spam  Free entry in 2 a wkly comp to win FA Cup fina...     155\n",
      "2      ham  Nah I don't think he goes to usf, he lives aro...      61\n",
      "3      ham  Even my brother is not like to speak with me. ...      77\n",
      "4      ham               I HAVE A DATE ON SUNDAY WITH WILL!!!      36\n",
      "...    ...                                                ...     ...\n",
      "5562  spam  This is the 2nd time we have tried 2 contact u...     160\n",
      "5563   ham               Will ü b going to esplanade fr home?      36\n",
      "5564   ham  Pity, * was in mood for that. So...any other s...      57\n",
      "5565   ham  The guy did some bitching but I acted like i'd...     125\n",
      "5566   ham                         Rofl. Its true to its name      26\n",
      "\n",
      "[5567 rows x 3 columns]\n"
     ]
    }
   ],
   "source": [
    "d['length']=d['Messages'].apply(len)\n",
    "print(d)"
   ]
  },
  {
   "cell_type": "code",
   "execution_count": 4,
   "id": "baf0d6a7",
   "metadata": {},
   "outputs": [
    {
     "data": {
      "text/plain": [
       "1080    For me the love should start with attraction.i...\n",
       "1574    How to Make a girl Happy? It's not at all diff...\n",
       "1858    The last thing i ever wanted to do was hurt yo...\n",
       "2153    Sad story of a Man - Last week was my b'day. M...\n",
       "2429    Indians r poor but India is not a poor country...\n",
       "2844    Sad story of a Man - Last week was my b'day. M...\n",
       "Name: Messages, dtype: object"
      ]
     },
     "execution_count": 4,
     "metadata": {},
     "output_type": "execute_result"
    }
   ],
   "source": [
    "d['Messages'][d['length']>500]\n"
   ]
  },
  {
   "cell_type": "code",
   "execution_count": 5,
   "id": "ca375138",
   "metadata": {},
   "outputs": [
    {
     "data": {
      "text/plain": [
       "array(['ham', 'spam'], dtype=object)"
      ]
     },
     "execution_count": 5,
     "metadata": {},
     "output_type": "execute_result"
    }
   ],
   "source": [
    "# unique class \n",
    "d.Class.unique()"
   ]
  },
  {
   "cell_type": "code",
   "execution_count": 6,
   "id": "74a4ab64",
   "metadata": {},
   "outputs": [
    {
     "data": {
      "text/plain": [
       "ham     4821\n",
       "spam     746\n",
       "Name: Class, dtype: int64"
      ]
     },
     "execution_count": 6,
     "metadata": {},
     "output_type": "execute_result"
    }
   ],
   "source": [
    "# value count of class \n",
    "d.Class.value_counts()"
   ]
  },
  {
   "cell_type": "code",
   "execution_count": 7,
   "id": "8a60f55e",
   "metadata": {},
   "outputs": [],
   "source": [
    "# Text preprocessing \n",
    "\n",
    "d.loc[d['Class']=='ham','Class']=1\n",
    "d.loc[d['Class']=='spam','Class']=0"
   ]
  },
  {
   "cell_type": "code",
   "execution_count": 8,
   "id": "f0ef9ca8",
   "metadata": {},
   "outputs": [
    {
     "name": "stdout",
     "output_type": "stream",
     "text": [
      "     Class                                           Messages  length\n",
      "0        1  I've been searching for the right words to tha...     196\n",
      "1        0  Free entry in 2 a wkly comp to win FA Cup fina...     155\n",
      "2        1  Nah I don't think he goes to usf, he lives aro...      61\n",
      "3        1  Even my brother is not like to speak with me. ...      77\n",
      "4        1               I HAVE A DATE ON SUNDAY WITH WILL!!!      36\n",
      "...    ...                                                ...     ...\n",
      "5562     0  This is the 2nd time we have tried 2 contact u...     160\n",
      "5563     1               Will ü b going to esplanade fr home?      36\n",
      "5564     1  Pity, * was in mood for that. So...any other s...      57\n",
      "5565     1  The guy did some bitching but I acted like i'd...     125\n",
      "5566     1                         Rofl. Its true to its name      26\n",
      "\n",
      "[5567 rows x 3 columns]\n"
     ]
    }
   ],
   "source": [
    "print(d)"
   ]
  },
  {
   "cell_type": "code",
   "execution_count": 9,
   "id": "426326d3",
   "metadata": {},
   "outputs": [
    {
     "data": {
      "text/plain": [
       "'!\"#$%&\\'()*+,-./:;<=>?@[\\\\]^_`{|}~'"
      ]
     },
     "execution_count": 9,
     "metadata": {},
     "output_type": "execute_result"
    }
   ],
   "source": [
    "# Text cleaning \n",
    "import string\n",
    "string.punctuation "
   ]
  },
  {
   "cell_type": "code",
   "execution_count": 12,
   "id": "a5780fda",
   "metadata": {},
   "outputs": [],
   "source": [
    "def remove_punct(text):\n",
    "    text=\"\".join([char for char in text if char not in string.punctuation])\n",
    "    return text\n"
   ]
  },
  {
   "cell_type": "code",
   "execution_count": 14,
   "id": "932e1898",
   "metadata": {},
   "outputs": [],
   "source": [
    "d[\"text_clean\"]=d[\"Messages\"].apply(lambda x:remove_punct(x))"
   ]
  },
  {
   "cell_type": "code",
   "execution_count": 15,
   "id": "cc6184ec",
   "metadata": {},
   "outputs": [
    {
     "name": "stdout",
     "output_type": "stream",
     "text": [
      "     Class                                           Messages  length  \\\n",
      "0        1  I've been searching for the right words to tha...     196   \n",
      "1        0  Free entry in 2 a wkly comp to win FA Cup fina...     155   \n",
      "2        1  Nah I don't think he goes to usf, he lives aro...      61   \n",
      "3        1  Even my brother is not like to speak with me. ...      77   \n",
      "4        1               I HAVE A DATE ON SUNDAY WITH WILL!!!      36   \n",
      "...    ...                                                ...     ...   \n",
      "5562     0  This is the 2nd time we have tried 2 contact u...     160   \n",
      "5563     1               Will ü b going to esplanade fr home?      36   \n",
      "5564     1  Pity, * was in mood for that. So...any other s...      57   \n",
      "5565     1  The guy did some bitching but I acted like i'd...     125   \n",
      "5566     1                         Rofl. Its true to its name      26   \n",
      "\n",
      "                                             text_clean  \n",
      "0     Ive been searching for the right words to than...  \n",
      "1     Free entry in 2 a wkly comp to win FA Cup fina...  \n",
      "2     Nah I dont think he goes to usf he lives aroun...  \n",
      "3     Even my brother is not like to speak with me T...  \n",
      "4                     I HAVE A DATE ON SUNDAY WITH WILL  \n",
      "...                                                 ...  \n",
      "5562  This is the 2nd time we have tried 2 contact u...  \n",
      "5563                Will ü b going to esplanade fr home  \n",
      "5564  Pity  was in mood for that Soany other suggest...  \n",
      "5565  The guy did some bitching but I acted like id ...  \n",
      "5566                          Rofl Its true to its name  \n",
      "\n",
      "[5567 rows x 4 columns]\n"
     ]
    }
   ],
   "source": [
    "print(d)"
   ]
  },
  {
   "cell_type": "code",
   "execution_count": 16,
   "id": "37065fa4",
   "metadata": {},
   "outputs": [],
   "source": [
    "# split data into x and y \n",
    "x=d[\"text_clean\"]\n",
    "y=d['Class']"
   ]
  },
  {
   "cell_type": "code",
   "execution_count": 17,
   "id": "e5915fcc",
   "metadata": {},
   "outputs": [],
   "source": [
    "# covert object to integer \n",
    "y=y.astype('int')"
   ]
  },
  {
   "cell_type": "code",
   "execution_count": 18,
   "id": "5b7e0efa",
   "metadata": {},
   "outputs": [
    {
     "data": {
      "text/plain": [
       "dtype('int32')"
      ]
     },
     "execution_count": 18,
     "metadata": {},
     "output_type": "execute_result"
    }
   ],
   "source": [
    "y.dtypes"
   ]
  },
  {
   "cell_type": "code",
   "execution_count": 19,
   "id": "9a7247b0",
   "metadata": {},
   "outputs": [],
   "source": [
    "# split data for training and testing \n",
    "from sklearn.model_selection import train_test_split\n",
    "x_train,x_test,y_train,y_test=train_test_split(x,y,test_size=0.2,random_state=10)"
   ]
  },
  {
   "cell_type": "code",
   "execution_count": 20,
   "id": "c6f52cad",
   "metadata": {},
   "outputs": [],
   "source": [
    "# Apply countvectorizer method to convert categorical data into numerical by creating feature vectors \n",
    "from sklearn.feature_extraction.text import CountVectorizer\n",
    "cv=CountVectorizer(stop_words=\"english\")\n",
    "x_train_cv=cv.fit_transform(x_train)"
   ]
  },
  {
   "cell_type": "code",
   "execution_count": 21,
   "id": "fe1d1e24",
   "metadata": {},
   "outputs": [],
   "source": [
    "x_test_cv=cv.transform(x_test)"
   ]
  },
  {
   "cell_type": "code",
   "execution_count": 23,
   "id": "645f4a1f",
   "metadata": {},
   "outputs": [
    {
     "data": {
      "text/plain": [
       "<4453x8159 sparse matrix of type '<class 'numpy.int64'>'\n",
       "\twith 34532 stored elements in Compressed Sparse Row format>"
      ]
     },
     "execution_count": 23,
     "metadata": {},
     "output_type": "execute_result"
    }
   ],
   "source": [
    "x_train_cv"
   ]
  },
  {
   "cell_type": "code",
   "execution_count": 25,
   "id": "9bbd7c8b",
   "metadata": {},
   "outputs": [
    {
     "data": {
      "text/html": [
       "<style>#sk-container-id-1 {color: black;background-color: white;}#sk-container-id-1 pre{padding: 0;}#sk-container-id-1 div.sk-toggleable {background-color: white;}#sk-container-id-1 label.sk-toggleable__label {cursor: pointer;display: block;width: 100%;margin-bottom: 0;padding: 0.3em;box-sizing: border-box;text-align: center;}#sk-container-id-1 label.sk-toggleable__label-arrow:before {content: \"▸\";float: left;margin-right: 0.25em;color: #696969;}#sk-container-id-1 label.sk-toggleable__label-arrow:hover:before {color: black;}#sk-container-id-1 div.sk-estimator:hover label.sk-toggleable__label-arrow:before {color: black;}#sk-container-id-1 div.sk-toggleable__content {max-height: 0;max-width: 0;overflow: hidden;text-align: left;background-color: #f0f8ff;}#sk-container-id-1 div.sk-toggleable__content pre {margin: 0.2em;color: black;border-radius: 0.25em;background-color: #f0f8ff;}#sk-container-id-1 input.sk-toggleable__control:checked~div.sk-toggleable__content {max-height: 200px;max-width: 100%;overflow: auto;}#sk-container-id-1 input.sk-toggleable__control:checked~label.sk-toggleable__label-arrow:before {content: \"▾\";}#sk-container-id-1 div.sk-estimator input.sk-toggleable__control:checked~label.sk-toggleable__label {background-color: #d4ebff;}#sk-container-id-1 div.sk-label input.sk-toggleable__control:checked~label.sk-toggleable__label {background-color: #d4ebff;}#sk-container-id-1 input.sk-hidden--visually {border: 0;clip: rect(1px 1px 1px 1px);clip: rect(1px, 1px, 1px, 1px);height: 1px;margin: -1px;overflow: hidden;padding: 0;position: absolute;width: 1px;}#sk-container-id-1 div.sk-estimator {font-family: monospace;background-color: #f0f8ff;border: 1px dotted black;border-radius: 0.25em;box-sizing: border-box;margin-bottom: 0.5em;}#sk-container-id-1 div.sk-estimator:hover {background-color: #d4ebff;}#sk-container-id-1 div.sk-parallel-item::after {content: \"\";width: 100%;border-bottom: 1px solid gray;flex-grow: 1;}#sk-container-id-1 div.sk-label:hover label.sk-toggleable__label {background-color: #d4ebff;}#sk-container-id-1 div.sk-serial::before {content: \"\";position: absolute;border-left: 1px solid gray;box-sizing: border-box;top: 0;bottom: 0;left: 50%;z-index: 0;}#sk-container-id-1 div.sk-serial {display: flex;flex-direction: column;align-items: center;background-color: white;padding-right: 0.2em;padding-left: 0.2em;position: relative;}#sk-container-id-1 div.sk-item {position: relative;z-index: 1;}#sk-container-id-1 div.sk-parallel {display: flex;align-items: stretch;justify-content: center;background-color: white;position: relative;}#sk-container-id-1 div.sk-item::before, #sk-container-id-1 div.sk-parallel-item::before {content: \"\";position: absolute;border-left: 1px solid gray;box-sizing: border-box;top: 0;bottom: 0;left: 50%;z-index: -1;}#sk-container-id-1 div.sk-parallel-item {display: flex;flex-direction: column;z-index: 1;position: relative;background-color: white;}#sk-container-id-1 div.sk-parallel-item:first-child::after {align-self: flex-end;width: 50%;}#sk-container-id-1 div.sk-parallel-item:last-child::after {align-self: flex-start;width: 50%;}#sk-container-id-1 div.sk-parallel-item:only-child::after {width: 0;}#sk-container-id-1 div.sk-dashed-wrapped {border: 1px dashed gray;margin: 0 0.4em 0.5em 0.4em;box-sizing: border-box;padding-bottom: 0.4em;background-color: white;}#sk-container-id-1 div.sk-label label {font-family: monospace;font-weight: bold;display: inline-block;line-height: 1.2em;}#sk-container-id-1 div.sk-label-container {text-align: center;}#sk-container-id-1 div.sk-container {/* jupyter's `normalize.less` sets `[hidden] { display: none; }` but bootstrap.min.css set `[hidden] { display: none !important; }` so we also need the `!important` here to be able to override the default hidden behavior on the sphinx rendered scikit-learn.org. See: https://github.com/scikit-learn/scikit-learn/issues/21755 */display: inline-block !important;position: relative;}#sk-container-id-1 div.sk-text-repr-fallback {display: none;}</style><div id=\"sk-container-id-1\" class=\"sk-top-container\"><div class=\"sk-text-repr-fallback\"><pre>MultinomialNB()</pre><b>In a Jupyter environment, please rerun this cell to show the HTML representation or trust the notebook. <br />On GitHub, the HTML representation is unable to render, please try loading this page with nbviewer.org.</b></div><div class=\"sk-container\" hidden><div class=\"sk-item\"><div class=\"sk-estimator sk-toggleable\"><input class=\"sk-toggleable__control sk-hidden--visually\" id=\"sk-estimator-id-1\" type=\"checkbox\" checked><label for=\"sk-estimator-id-1\" class=\"sk-toggleable__label sk-toggleable__label-arrow\">MultinomialNB</label><div class=\"sk-toggleable__content\"><pre>MultinomialNB()</pre></div></div></div></div></div>"
      ],
      "text/plain": [
       "MultinomialNB()"
      ]
     },
     "execution_count": 25,
     "metadata": {},
     "output_type": "execute_result"
    }
   ],
   "source": [
    "# Build model \n",
    "from sklearn.naive_bayes import MultinomialNB\n",
    "model1=MultinomialNB()\n",
    "model1.fit(x_train_cv,y_train)"
   ]
  },
  {
   "cell_type": "code",
   "execution_count": 26,
   "id": "b2020dfa",
   "metadata": {},
   "outputs": [],
   "source": [
    "y_pred=model1.predict(x_test_cv)"
   ]
  },
  {
   "cell_type": "code",
   "execution_count": 27,
   "id": "dd4da49e",
   "metadata": {},
   "outputs": [
    {
     "data": {
      "text/plain": [
       "0.9829443447037702"
      ]
     },
     "execution_count": 27,
     "metadata": {},
     "output_type": "execute_result"
    }
   ],
   "source": [
    "from sklearn.metrics import accuracy_score\n",
    "accuracy_score(y_test,y_pred)"
   ]
  },
  {
   "cell_type": "code",
   "execution_count": 29,
   "id": "ddcefa84",
   "metadata": {},
   "outputs": [
    {
     "name": "stdout",
     "output_type": "stream",
     "text": [
      "enter message :hi! whats up dude ??\n",
      "Ham\n"
     ]
    }
   ],
   "source": [
    "# Predictions \n",
    "m=input(\"enter message :\")\n",
    "minput=cv.transform([m])\n",
    "predict=model1.predict(minput)\n",
    "if (predict[0]==0):\n",
    "    print(\"spam\")\n",
    "else :\n",
    "    print(\"Ham\")"
   ]
  },
  {
   "cell_type": "code",
   "execution_count": null,
   "id": "75dc2b5a",
   "metadata": {},
   "outputs": [],
   "source": [
    "# Using TFIDF "
   ]
  },
  {
   "cell_type": "code",
   "execution_count": 30,
   "id": "440d3813",
   "metadata": {},
   "outputs": [],
   "source": [
    "from sklearn.feature_extraction.text import TfidfVectorizer\n",
    "tf=TfidfVectorizer()\n",
    "x_tf=tf.fit_transform(x)"
   ]
  },
  {
   "cell_type": "code",
   "execution_count": 31,
   "id": "a12736c4",
   "metadata": {},
   "outputs": [],
   "source": [
    "from sklearn.model_selection import train_test_split\n",
    "x_train,x_test,y_train,y_test=train_test_split(x_tf,y,test_size=0.20,random_state=10)"
   ]
  },
  {
   "cell_type": "code",
   "execution_count": 32,
   "id": "724549db",
   "metadata": {},
   "outputs": [],
   "source": [
    "# Bernoulli model \n",
    "\n",
    "from sklearn.naive_bayes import BernoulliNB\n",
    "model2=BernoulliNB(alpha=0.01)"
   ]
  },
  {
   "cell_type": "code",
   "execution_count": 33,
   "id": "1e15d755",
   "metadata": {},
   "outputs": [
    {
     "data": {
      "text/html": [
       "<style>#sk-container-id-2 {color: black;background-color: white;}#sk-container-id-2 pre{padding: 0;}#sk-container-id-2 div.sk-toggleable {background-color: white;}#sk-container-id-2 label.sk-toggleable__label {cursor: pointer;display: block;width: 100%;margin-bottom: 0;padding: 0.3em;box-sizing: border-box;text-align: center;}#sk-container-id-2 label.sk-toggleable__label-arrow:before {content: \"▸\";float: left;margin-right: 0.25em;color: #696969;}#sk-container-id-2 label.sk-toggleable__label-arrow:hover:before {color: black;}#sk-container-id-2 div.sk-estimator:hover label.sk-toggleable__label-arrow:before {color: black;}#sk-container-id-2 div.sk-toggleable__content {max-height: 0;max-width: 0;overflow: hidden;text-align: left;background-color: #f0f8ff;}#sk-container-id-2 div.sk-toggleable__content pre {margin: 0.2em;color: black;border-radius: 0.25em;background-color: #f0f8ff;}#sk-container-id-2 input.sk-toggleable__control:checked~div.sk-toggleable__content {max-height: 200px;max-width: 100%;overflow: auto;}#sk-container-id-2 input.sk-toggleable__control:checked~label.sk-toggleable__label-arrow:before {content: \"▾\";}#sk-container-id-2 div.sk-estimator input.sk-toggleable__control:checked~label.sk-toggleable__label {background-color: #d4ebff;}#sk-container-id-2 div.sk-label input.sk-toggleable__control:checked~label.sk-toggleable__label {background-color: #d4ebff;}#sk-container-id-2 input.sk-hidden--visually {border: 0;clip: rect(1px 1px 1px 1px);clip: rect(1px, 1px, 1px, 1px);height: 1px;margin: -1px;overflow: hidden;padding: 0;position: absolute;width: 1px;}#sk-container-id-2 div.sk-estimator {font-family: monospace;background-color: #f0f8ff;border: 1px dotted black;border-radius: 0.25em;box-sizing: border-box;margin-bottom: 0.5em;}#sk-container-id-2 div.sk-estimator:hover {background-color: #d4ebff;}#sk-container-id-2 div.sk-parallel-item::after {content: \"\";width: 100%;border-bottom: 1px solid gray;flex-grow: 1;}#sk-container-id-2 div.sk-label:hover label.sk-toggleable__label {background-color: #d4ebff;}#sk-container-id-2 div.sk-serial::before {content: \"\";position: absolute;border-left: 1px solid gray;box-sizing: border-box;top: 0;bottom: 0;left: 50%;z-index: 0;}#sk-container-id-2 div.sk-serial {display: flex;flex-direction: column;align-items: center;background-color: white;padding-right: 0.2em;padding-left: 0.2em;position: relative;}#sk-container-id-2 div.sk-item {position: relative;z-index: 1;}#sk-container-id-2 div.sk-parallel {display: flex;align-items: stretch;justify-content: center;background-color: white;position: relative;}#sk-container-id-2 div.sk-item::before, #sk-container-id-2 div.sk-parallel-item::before {content: \"\";position: absolute;border-left: 1px solid gray;box-sizing: border-box;top: 0;bottom: 0;left: 50%;z-index: -1;}#sk-container-id-2 div.sk-parallel-item {display: flex;flex-direction: column;z-index: 1;position: relative;background-color: white;}#sk-container-id-2 div.sk-parallel-item:first-child::after {align-self: flex-end;width: 50%;}#sk-container-id-2 div.sk-parallel-item:last-child::after {align-self: flex-start;width: 50%;}#sk-container-id-2 div.sk-parallel-item:only-child::after {width: 0;}#sk-container-id-2 div.sk-dashed-wrapped {border: 1px dashed gray;margin: 0 0.4em 0.5em 0.4em;box-sizing: border-box;padding-bottom: 0.4em;background-color: white;}#sk-container-id-2 div.sk-label label {font-family: monospace;font-weight: bold;display: inline-block;line-height: 1.2em;}#sk-container-id-2 div.sk-label-container {text-align: center;}#sk-container-id-2 div.sk-container {/* jupyter's `normalize.less` sets `[hidden] { display: none; }` but bootstrap.min.css set `[hidden] { display: none !important; }` so we also need the `!important` here to be able to override the default hidden behavior on the sphinx rendered scikit-learn.org. See: https://github.com/scikit-learn/scikit-learn/issues/21755 */display: inline-block !important;position: relative;}#sk-container-id-2 div.sk-text-repr-fallback {display: none;}</style><div id=\"sk-container-id-2\" class=\"sk-top-container\"><div class=\"sk-text-repr-fallback\"><pre>BernoulliNB(alpha=0.01)</pre><b>In a Jupyter environment, please rerun this cell to show the HTML representation or trust the notebook. <br />On GitHub, the HTML representation is unable to render, please try loading this page with nbviewer.org.</b></div><div class=\"sk-container\" hidden><div class=\"sk-item\"><div class=\"sk-estimator sk-toggleable\"><input class=\"sk-toggleable__control sk-hidden--visually\" id=\"sk-estimator-id-2\" type=\"checkbox\" checked><label for=\"sk-estimator-id-2\" class=\"sk-toggleable__label sk-toggleable__label-arrow\">BernoulliNB</label><div class=\"sk-toggleable__content\"><pre>BernoulliNB(alpha=0.01)</pre></div></div></div></div></div>"
      ],
      "text/plain": [
       "BernoulliNB(alpha=0.01)"
      ]
     },
     "execution_count": 33,
     "metadata": {},
     "output_type": "execute_result"
    }
   ],
   "source": [
    "model2.fit(x_train,y_train)"
   ]
  },
  {
   "cell_type": "code",
   "execution_count": 34,
   "id": "674314f7",
   "metadata": {},
   "outputs": [],
   "source": [
    "y_pred=model2.predict(x_test)"
   ]
  },
  {
   "cell_type": "code",
   "execution_count": 35,
   "id": "74a5b357",
   "metadata": {},
   "outputs": [
    {
     "data": {
      "text/plain": [
       "0.9856373429084381"
      ]
     },
     "execution_count": 35,
     "metadata": {},
     "output_type": "execute_result"
    }
   ],
   "source": [
    "accuracy_score(y_test,y_pred)"
   ]
  },
  {
   "cell_type": "code",
   "execution_count": 37,
   "id": "d618aebd",
   "metadata": {},
   "outputs": [
    {
     "name": "stdout",
     "output_type": "stream",
     "text": [
      "Enter the msgis it a rainy day today ?\n",
      "Ham\n"
     ]
    }
   ],
   "source": [
    "msg=input(\"Enter the msg\")\n",
    "msginput=tf.transform([msg])\n",
    "predict=model2.predict(msginput)\n",
    "if (predict[0]==0):\n",
    "    print(\"Spam\")\n",
    "else:\n",
    "    print(\"Ham\")"
   ]
  }
 ],
 "metadata": {
  "kernelspec": {
   "display_name": "Python 3 (ipykernel)",
   "language": "python",
   "name": "python3"
  },
  "language_info": {
   "codemirror_mode": {
    "name": "ipython",
    "version": 3
   },
   "file_extension": ".py",
   "mimetype": "text/x-python",
   "name": "python",
   "nbconvert_exporter": "python",
   "pygments_lexer": "ipython3",
   "version": "3.11.3"
  }
 },
 "nbformat": 4,
 "nbformat_minor": 5
}
