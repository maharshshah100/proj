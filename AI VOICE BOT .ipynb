{
 "cells": [
  {
   "cell_type": "code",
   "execution_count": 1,
   "id": "128c8675",
   "metadata": {},
   "outputs": [
    {
     "name": "stdout",
     "output_type": "stream",
     "text": [
      "Requirement already satisfied: PyAudio in c:\\users\\maharsh shah\\anaconda3\\lib\\site-packages (0.2.14)\n"
     ]
    },
    {
     "name": "stderr",
     "output_type": "stream",
     "text": [
      "\n",
      "[notice] A new release of pip is available: 24.2 -> 24.3.1\n",
      "[notice] To update, run: python.exe -m pip install --upgrade pip\n"
     ]
    },
    {
     "name": "stdout",
     "output_type": "stream",
     "text": [
      "Requirement already satisfied: SpeechRecognition in c:\\users\\maharsh shah\\anaconda3\\lib\\site-packages (3.10.4)\n",
      "Requirement already satisfied: requests>=2.26.0 in c:\\users\\maharsh shah\\anaconda3\\lib\\site-packages (from SpeechRecognition) (2.29.0)\n",
      "Requirement already satisfied: typing-extensions in c:\\users\\maharsh shah\\anaconda3\\lib\\site-packages (from SpeechRecognition) (4.12.2)\n",
      "Requirement already satisfied: charset-normalizer<4,>=2 in c:\\users\\maharsh shah\\anaconda3\\lib\\site-packages (from requests>=2.26.0->SpeechRecognition) (2.0.4)\n",
      "Requirement already satisfied: idna<4,>=2.5 in c:\\users\\maharsh shah\\anaconda3\\lib\\site-packages (from requests>=2.26.0->SpeechRecognition) (3.4)\n",
      "Requirement already satisfied: urllib3<1.27,>=1.21.1 in c:\\users\\maharsh shah\\anaconda3\\lib\\site-packages (from requests>=2.26.0->SpeechRecognition) (1.26.16)\n",
      "Requirement already satisfied: certifi>=2017.4.17 in c:\\users\\maharsh shah\\anaconda3\\lib\\site-packages (from requests>=2.26.0->SpeechRecognition) (2023.5.7)\n"
     ]
    },
    {
     "name": "stderr",
     "output_type": "stream",
     "text": [
      "\n",
      "[notice] A new release of pip is available: 24.2 -> 24.3.1\n",
      "[notice] To update, run: python.exe -m pip install --upgrade pip\n"
     ]
    },
    {
     "name": "stdout",
     "output_type": "stream",
     "text": [
      "Requirement already satisfied: pyttsx3 in c:\\users\\maharsh shah\\anaconda3\\lib\\site-packages (2.91)\n",
      "Requirement already satisfied: comtypes in c:\\users\\maharsh shah\\anaconda3\\lib\\site-packages (from pyttsx3) (1.4.6)\n",
      "Requirement already satisfied: pypiwin32 in c:\\users\\maharsh shah\\anaconda3\\lib\\site-packages (from pyttsx3) (223)\n",
      "Requirement already satisfied: pywin32 in c:\\users\\maharsh shah\\anaconda3\\lib\\site-packages (from pyttsx3) (305.1)\n"
     ]
    },
    {
     "name": "stderr",
     "output_type": "stream",
     "text": [
      "\n",
      "[notice] A new release of pip is available: 24.2 -> 24.3.1\n",
      "[notice] To update, run: python.exe -m pip install --upgrade pip\n"
     ]
    },
    {
     "name": "stdout",
     "output_type": "stream",
     "text": [
      "Requirement already satisfied: pywhatkit in c:\\users\\maharsh shah\\anaconda3\\lib\\site-packages (5.4)\n",
      "Requirement already satisfied: Pillow in c:\\users\\maharsh shah\\anaconda3\\lib\\site-packages (from pywhatkit) (9.4.0)\n",
      "Requirement already satisfied: pyautogui in c:\\users\\maharsh shah\\anaconda3\\lib\\site-packages (from pywhatkit) (0.9.54)\n",
      "Requirement already satisfied: requests in c:\\users\\maharsh shah\\anaconda3\\lib\\site-packages (from pywhatkit) (2.29.0)\n",
      "Requirement already satisfied: wikipedia in c:\\users\\maharsh shah\\anaconda3\\lib\\site-packages (from pywhatkit) (1.4.0)\n",
      "Requirement already satisfied: Flask in c:\\users\\maharsh shah\\anaconda3\\lib\\site-packages (from pywhatkit) (2.2.2)\n",
      "Requirement already satisfied: Werkzeug>=2.2.2 in c:\\users\\maharsh shah\\anaconda3\\lib\\site-packages (from Flask->pywhatkit) (2.2.3)\n",
      "Requirement already satisfied: Jinja2>=3.0 in c:\\users\\maharsh shah\\anaconda3\\lib\\site-packages (from Flask->pywhatkit) (3.1.2)\n",
      "Requirement already satisfied: itsdangerous>=2.0 in c:\\users\\maharsh shah\\anaconda3\\lib\\site-packages (from Flask->pywhatkit) (2.0.1)\n",
      "Requirement already satisfied: click>=8.0 in c:\\users\\maharsh shah\\anaconda3\\lib\\site-packages (from Flask->pywhatkit) (8.0.4)\n",
      "Requirement already satisfied: pymsgbox in c:\\users\\maharsh shah\\anaconda3\\lib\\site-packages (from pyautogui->pywhatkit) (1.0.9)\n",
      "Requirement already satisfied: pytweening>=1.0.4 in c:\\users\\maharsh shah\\anaconda3\\lib\\site-packages (from pyautogui->pywhatkit) (1.2.0)\n",
      "Requirement already satisfied: pyscreeze>=0.1.21 in c:\\users\\maharsh shah\\anaconda3\\lib\\site-packages (from pyautogui->pywhatkit) (1.0.1)\n",
      "Requirement already satisfied: pygetwindow>=0.0.5 in c:\\users\\maharsh shah\\anaconda3\\lib\\site-packages (from pyautogui->pywhatkit) (0.0.9)\n",
      "Requirement already satisfied: mouseinfo in c:\\users\\maharsh shah\\anaconda3\\lib\\site-packages (from pyautogui->pywhatkit) (0.1.3)\n",
      "Requirement already satisfied: charset-normalizer<4,>=2 in c:\\users\\maharsh shah\\anaconda3\\lib\\site-packages (from requests->pywhatkit) (2.0.4)\n",
      "Requirement already satisfied: idna<4,>=2.5 in c:\\users\\maharsh shah\\anaconda3\\lib\\site-packages (from requests->pywhatkit) (3.4)\n",
      "Requirement already satisfied: urllib3<1.27,>=1.21.1 in c:\\users\\maharsh shah\\anaconda3\\lib\\site-packages (from requests->pywhatkit) (1.26.16)\n",
      "Requirement already satisfied: certifi>=2017.4.17 in c:\\users\\maharsh shah\\anaconda3\\lib\\site-packages (from requests->pywhatkit) (2023.5.7)\n",
      "Requirement already satisfied: beautifulsoup4 in c:\\users\\maharsh shah\\anaconda3\\lib\\site-packages (from wikipedia->pywhatkit) (4.12.2)\n",
      "Requirement already satisfied: colorama in c:\\users\\maharsh shah\\anaconda3\\lib\\site-packages (from click>=8.0->Flask->pywhatkit) (0.4.6)\n",
      "Requirement already satisfied: MarkupSafe>=2.0 in c:\\users\\maharsh shah\\anaconda3\\lib\\site-packages (from Jinja2>=3.0->Flask->pywhatkit) (2.1.1)\n",
      "Requirement already satisfied: pyrect in c:\\users\\maharsh shah\\anaconda3\\lib\\site-packages (from pygetwindow>=0.0.5->pyautogui->pywhatkit) (0.2.0)\n",
      "Requirement already satisfied: soupsieve>1.2 in c:\\users\\maharsh shah\\anaconda3\\lib\\site-packages (from beautifulsoup4->wikipedia->pywhatkit) (2.4)\n",
      "Requirement already satisfied: pyperclip in c:\\users\\maharsh shah\\anaconda3\\lib\\site-packages (from mouseinfo->pyautogui->pywhatkit) (1.9.0)\n"
     ]
    },
    {
     "name": "stderr",
     "output_type": "stream",
     "text": [
      "\n",
      "[notice] A new release of pip is available: 24.2 -> 24.3.1\n",
      "[notice] To update, run: python.exe -m pip install --upgrade pip\n"
     ]
    }
   ],
   "source": [
    "!pip install PyAudio\n",
    "!pip install SpeechRecognition\n",
    "!pip install pyttsx3\n",
    "!pip install pywhatkit"
   ]
  },
  {
   "cell_type": "code",
   "execution_count": null,
   "id": "65ff8945",
   "metadata": {},
   "outputs": [],
   "source": [
    "import speech_recognition as sr\n",
    "import pyttsx3\n",
    "import pywhatkit\n",
    "import datetime\n",
    "import wikipedia\n",
    "\n",
    "listener = sr.Recognizer()\n",
    "engine = pyttsx3.init()\n",
    "\n",
    "#voice changing \n",
    "voices = engine.getProperty('voices')\n",
    "\n",
    "engine.setProperty('voice',voices[0].id)\n",
    "\n",
    "def intro():\n",
    "    engine.say(\"Hii I'm monk\")\n",
    "    engine.say(\"What can I do for you\")\n",
    "    engine.runAndWait()\n",
    "\n",
    "def ans(text):\n",
    "    engine.say(text)\n",
    "    engine.runAndWait()\n",
    "\n",
    "def take_command(n):\n",
    "    try:\n",
    "        with sr.Microphone() as source:\n",
    "            if(n==1):\n",
    "                intro()\n",
    "                print(\"n: \",n)\n",
    "                n+=1\n",
    "            voice = listener.listen(source)\n",
    "            command = listener.recognize_google(voice)\n",
    "            if 'shank'in command:\n",
    "                command = command.replace('shank','')\n",
    "                print(\"n: \",n)\n",
    "            return (n,command)\n",
    "    except:\n",
    "        ans(\"Sorry, I don't Understand.\")\n",
    "        print(\"n: \",n)\n",
    "        return (n,'')\n",
    "        \n",
    "\n",
    "def run_shank(n):\n",
    "    m,command = take_command(n)\n",
    "    if command == '':\n",
    "        pass\n",
    "\n",
    "    try:\n",
    "\n",
    "        if 'play' in command:\n",
    "            song = command.replace('play','')\n",
    "            ans(f\"Playing {command}\")\n",
    "            pywhatkit.playonyt(command)\n",
    "            print(\"m: \",m)\n",
    "            return m\n",
    "\n",
    "        elif 'time' in command:\n",
    "            time  = datetime.datetime.now().strftime('%I:%M %p')\n",
    "            ans(f'Current time is {time}')\n",
    "            print(\"m: \",m)\n",
    "            return m\n",
    "        \n",
    "        elif 'exit' in command:\n",
    "            ans(f'Thank you for your time. Visit again')\n",
    "            print(\"m: \",m)\n",
    "            return 0\n",
    "        else:\n",
    "            info = wikipedia.summary(command,3)\n",
    "            ans(info)\n",
    "            print(\"m: \",m)\n",
    "            return m\n",
    "    except:\n",
    "        ans(\"Sorry, I don't Understand.\")\n",
    "        return m\n",
    "\n",
    "\n",
    "n=1\n",
    "while True:\n",
    "    n = run_shank(n)\n",
    "    if(n==0):\n",
    "        break"
   ]
  }
 ],
 "metadata": {
  "kernelspec": {
   "display_name": "Python 3 (ipykernel)",
   "language": "python",
   "name": "python3"
  },
  "language_info": {
   "codemirror_mode": {
    "name": "ipython",
    "version": 3
   },
   "file_extension": ".py",
   "mimetype": "text/x-python",
   "name": "python",
   "nbconvert_exporter": "python",
   "pygments_lexer": "ipython3",
   "version": "3.11.3"
  }
 },
 "nbformat": 4,
 "nbformat_minor": 5
}
